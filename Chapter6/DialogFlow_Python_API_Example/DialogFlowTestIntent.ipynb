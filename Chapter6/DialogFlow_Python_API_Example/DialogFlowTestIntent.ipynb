{
 "cells": [
  {
   "cell_type": "code",
   "execution_count": 1,
   "metadata": {},
   "outputs": [],
   "source": [
    "import dialogflow"
   ]
  },
  {
   "cell_type": "code",
   "execution_count": 2,
   "metadata": {},
   "outputs": [],
   "source": [
    "import os\n",
    "project_id = os.getenv(\"DIALOGFLOW_PROJECT_ID\")"
   ]
  },
  {
   "cell_type": "code",
   "execution_count": 3,
   "metadata": {},
   "outputs": [],
   "source": [
    "session_id=\"unique\""
   ]
  },
  {
   "cell_type": "code",
   "execution_count": 4,
   "metadata": {},
   "outputs": [],
   "source": [
    "def detect_intent(project_id, session_id, text, language_code):\n",
    "    \n",
    "    session_client = dialogflow.SessionsClient()\n",
    "    session = session_client.session_path(project_id, session_id)\n",
    "    \n",
    "    text_input = dialogflow.types.TextInput(text=text, language_code=language_code)\n",
    "    query_input = dialogflow.types.QueryInput(text=text_input)\n",
    "    response = session_client.detect_intent(session=session, query_input=query_input)\n",
    "    \n",
    "    print(response)\n",
    "    \n",
    "    return response.query_result.fulfillment_text"
   ]
  },
  {
   "cell_type": "code",
   "execution_count": 7,
   "metadata": {},
   "outputs": [
    {
     "name": "stdout",
     "output_type": "stream",
     "text": [
      "response_id: \"d1a7b2bf-8c5e-4c3d-91be-81161394cc24\"\n",
      "query_result {\n",
      "  query_text: \"talk to the dummy?\"\n",
      "  parameters {\n",
      "  }\n",
      "  all_required_params_present: true\n",
      "  fulfillment_text: \"Congratulations, dummy intent user!\"\n",
      "  fulfillment_messages {\n",
      "    text {\n",
      "      text: \"Congratulations, dummy intent user!\"\n",
      "    }\n",
      "  }\n",
      "  intent {\n",
      "    name: \"projects/gcp-api-232806/agent/intents/35e15aa5-e433-400f-a9d6-672d46bcefa7\"\n",
      "    display_name: \"Dummy Intent\"\n",
      "  }\n",
      "  intent_detection_confidence: 0.8199999928474426\n",
      "  language_code: \"en\"\n",
      "}\n",
      "\n"
     ]
    }
   ],
   "source": [
    "message = \"talk to the dummy?\"\n",
    "fulfillment_text = detect_intent(project_id, session_id, message, 'en')"
   ]
  },
  {
   "cell_type": "code",
   "execution_count": 8,
   "metadata": {},
   "outputs": [
    {
     "name": "stdout",
     "output_type": "stream",
     "text": [
      "Congratulations, dummy intent user!\n"
     ]
    }
   ],
   "source": [
    "print(fulfillment_text)"
   ]
  },
  {
   "cell_type": "code",
   "execution_count": null,
   "metadata": {},
   "outputs": [],
   "source": []
  }
 ],
 "metadata": {
  "kernelspec": {
   "display_name": "Python 3",
   "language": "python",
   "name": "python3"
  },
  "language_info": {
   "codemirror_mode": {
    "name": "ipython",
    "version": 3
   },
   "file_extension": ".py",
   "mimetype": "text/x-python",
   "name": "python",
   "nbconvert_exporter": "python",
   "pygments_lexer": "ipython3",
   "version": "3.7.0"
  }
 },
 "nbformat": 4,
 "nbformat_minor": 2
}
