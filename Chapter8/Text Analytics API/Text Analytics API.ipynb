{
 "cells": [
  {
   "cell_type": "markdown",
   "metadata": {},
   "source": [
    "### Imports"
   ]
  },
  {
   "cell_type": "code",
   "execution_count": 14,
   "metadata": {},
   "outputs": [],
   "source": [
    "import requests\n",
    "import os\n",
    "from pprint import pprint"
   ]
  },
  {
   "cell_type": "markdown",
   "metadata": {},
   "source": [
    "### Assigning the necessary variables and body parameter"
   ]
  },
  {
   "cell_type": "code",
   "execution_count": 4,
   "metadata": {},
   "outputs": [],
   "source": [
    "api_key = os.environ['text_api_key']"
   ]
  },
  {
   "cell_type": "code",
   "execution_count": 5,
   "metadata": {},
   "outputs": [],
   "source": [
    "text_analytics_base_url = \\\n",
    "'https://eastus.api.cognitive.microsoft.com/text/analytics/v2.0'"
   ]
  },
  {
   "cell_type": "code",
   "execution_count": 6,
   "metadata": {},
   "outputs": [],
   "source": [
    "language_api_url = text_analytics_base_url + \"/languages\"\n",
    "\n",
    "documents = { 'documents': [\n",
    "    { 'id': '1', 'text': 'I want to attend NeurIPS someday and present a paper there.' }\n",
    "]}"
   ]
  },
  {
   "cell_type": "markdown",
   "metadata": {},
   "source": [
    "### Assigning the header param, making a call to the _language detection_ API and showing the response"
   ]
  },
  {
   "cell_type": "code",
   "execution_count": 15,
   "metadata": {},
   "outputs": [
    {
     "name": "stdout",
     "output_type": "stream",
     "text": [
      "{'documents': [{'detectedLanguages': [{'iso6391Name': 'en',\n",
      "                                       'name': 'English',\n",
      "                                       'score': 1.0}],\n",
      "                'id': '1'}],\n",
      " 'errors': []}\n"
     ]
    }
   ],
   "source": [
    "headers   = {\"Ocp-Apim-Subscription-Key\": api_key}\n",
    "response  = requests.post(language_api_url, headers=headers, json=documents)\n",
    "language = response.json()\n",
    "pprint(language)"
   ]
  },
  {
   "cell_type": "markdown",
   "metadata": {},
   "source": [
    "### Making a call to the sentiment analysis API and showing the response"
   ]
  },
  {
   "cell_type": "code",
   "execution_count": 17,
   "metadata": {},
   "outputs": [
    {
     "name": "stdout",
     "output_type": "stream",
     "text": [
      "{'documents': [{'id': '1', 'score': 0.17243406176567078}], 'errors': []}\n"
     ]
    }
   ],
   "source": [
    "sentiment_api_url = text_analytics_base_url + \"/sentiment\"\n",
    "\n",
    "headers   = {\"Ocp-Apim-Subscription-Key\": api_key}\n",
    "response  = requests.post(sentiment_api_url, headers=headers, json=documents)\n",
    "sentiment = response.json()\n",
    "pprint(sentiment)"
   ]
  },
  {
   "cell_type": "markdown",
   "metadata": {},
   "source": [
    "### Making a call to the phrase extraction API and showing the response"
   ]
  },
  {
   "cell_type": "code",
   "execution_count": 19,
   "metadata": {},
   "outputs": [
    {
     "name": "stdout",
     "output_type": "stream",
     "text": [
      "{'documents': [{'id': '1', 'keyPhrases': ['NeurIPS', 'paper']}], 'errors': []}\n"
     ]
    }
   ],
   "source": [
    "key_phrase_api_url = text_analytics_base_url + \"/keyPhrases\"\n",
    "\n",
    "headers   = {\"Ocp-Apim-Subscription-Key\": api_key}\n",
    "response  = requests.post(key_phrase_api_url, headers=headers, json=documents)\n",
    "phrases = response.json()\n",
    "pprint(phrases)"
   ]
  }
 ],
 "metadata": {
  "kernelspec": {
   "display_name": "Python 3",
   "language": "python",
   "name": "python3"
  },
  "language_info": {
   "codemirror_mode": {
    "name": "ipython",
    "version": 3
   },
   "file_extension": ".py",
   "mimetype": "text/x-python",
   "name": "python",
   "nbconvert_exporter": "python",
   "pygments_lexer": "ipython3",
   "version": "3.6.5"
  },
  "latex_envs": {
   "LaTeX_envs_menu_present": true,
   "autoclose": false,
   "autocomplete": true,
   "bibliofile": "biblio.bib",
   "cite_by": "apalike",
   "current_citInitial": 1,
   "eqLabelWithNumbers": true,
   "eqNumInitial": 1,
   "hotkeys": {
    "equation": "Ctrl-E",
    "itemize": "Ctrl-I"
   },
   "labels_anchors": false,
   "latex_user_defs": false,
   "report_style_numbering": false,
   "user_envs_cfg": false
  },
  "toc": {
   "base_numbering": 1,
   "nav_menu": {},
   "number_sections": false,
   "sideBar": true,
   "skip_h1_title": false,
   "title_cell": "Table of Contents",
   "title_sidebar": "Contents",
   "toc_cell": false,
   "toc_position": {},
   "toc_section_display": true,
   "toc_window_display": false
  }
 },
 "nbformat": 4,
 "nbformat_minor": 2
}
